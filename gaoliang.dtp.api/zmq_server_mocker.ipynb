{
 "cells": [
  {
   "cell_type": "code",
   "execution_count": 1,
   "metadata": {},
   "outputs": [],
   "source": [
    "import zmq\n",
    "import random\n",
    "import time"
   ]
  },
  {
   "cell_type": "code",
   "execution_count": null,
   "metadata": {},
   "outputs": [],
   "source": [
    "port = '5556'\n",
    "pub_server_name = 'pub-server01'\n",
    "\n",
    "ctx = zmq.Context()\n",
    "socket = ctx.socket(zmq.PUB)\n",
    "socket.bind('tcp://*:{}'.format(port))\n",
    "\n",
    "while True:\n",
    "    topic = random.randrange(9999, 10005)\n",
    "    msg = random.randrange(0, 255)\n",
    "    socket.send_string('{} {} {}'.format(topic, msg, pub_server_name))\n",
    "    time.sleep(1)"
   ]
  },
  {
   "cell_type": "code",
   "execution_count": null,
   "metadata": {},
   "outputs": [],
   "source": []
  }
 ],
 "metadata": {
  "kernelspec": {
   "display_name": "Python 3",
   "language": "python",
   "name": "python3"
  },
  "language_info": {
   "codemirror_mode": {
    "name": "ipython",
    "version": 3
   },
   "file_extension": ".py",
   "mimetype": "text/x-python",
   "name": "python",
   "nbconvert_exporter": "python",
   "pygments_lexer": "ipython3",
   "version": "3.6.3"
  }
 },
 "nbformat": 4,
 "nbformat_minor": 2
}
