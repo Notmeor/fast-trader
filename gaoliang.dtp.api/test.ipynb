{
 "cells": [
  {
   "cell_type": "code",
   "execution_count": 1,
   "metadata": {},
   "outputs": [],
   "source": [
    "import dtp.type_pb2 as dtp_type\n",
    "import dtp.api_pb2 as dtp_struct\n",
    "import dtp.skeleton as dtp\n",
    "\n",
    "import mock_data as my_data\n",
    "\n",
    "\n",
    "def login():\n",
    "    dtp_sync_channel = dtp.DtpSyncChannel()\n",
    "    dtp_sync_channel.connect()\n",
    "\n",
    "    header = dtp_struct.RequestHeader()\n",
    "    header.request_id = my_data.generate_request_id()\n",
    "    body = dtp_struct.LoginAccountRequest()\n",
    "    body.account_no = \"021000062436\"\n",
    "    body.password = \"111111\"\n",
    "    payload = dtp.Payload(header, body)\n",
    "\n",
    "    response_payload = dtp_sync_channel.login_account(payload)\n",
    "    print(\"ResponseHeader:\")\n",
    "    print(response_payload.header)\n",
    "    print(\"ResponseHeader:\")\n",
    "    print(response_payload.body)\n",
    "\n",
    "    dtp_sync_channel.disconnect()"
   ]
  },
  {
   "cell_type": "code",
   "execution_count": null,
   "metadata": {},
   "outputs": [
    {
     "name": "stdout",
     "output_type": "stream",
     "text": [
      "connecting dtp sync channel...\n"
     ]
    }
   ],
   "source": [
    "login()"
   ]
  },
  {
   "cell_type": "code",
   "execution_count": null,
   "metadata": {},
   "outputs": [],
   "source": [
    "my_data.generate_request_id()"
   ]
  },
  {
   "cell_type": "code",
   "execution_count": null,
   "metadata": {},
   "outputs": [],
   "source": [
    "dtp_struct.RequestHeader()"
   ]
  },
  {
   "cell_type": "code",
   "execution_count": null,
   "metadata": {},
   "outputs": [],
   "source": [
    "header = dtp_struct.RequestHeader()\n",
    "header.request_id = my_data.generate_request_id()\n",
    "body = dtp_struct.LoginAccountRequest()\n",
    "body.account_no = \"021000062436\"\n",
    "body.password = \"123456\"\n",
    "payload = dtp.Payload(header, body)"
   ]
  },
  {
   "cell_type": "code",
   "execution_count": null,
   "metadata": {},
   "outputs": [],
   "source": [
    "payload.body"
   ]
  },
  {
   "cell_type": "code",
   "execution_count": null,
   "metadata": {},
   "outputs": [],
   "source": []
  }
 ],
 "metadata": {
  "kernelspec": {
   "display_name": "Python 3",
   "language": "python",
   "name": "python3"
  },
  "language_info": {
   "codemirror_mode": {
    "name": "ipython",
    "version": 3
   },
   "file_extension": ".py",
   "mimetype": "text/x-python",
   "name": "python",
   "nbconvert_exporter": "python",
   "pygments_lexer": "ipython3",
   "version": "3.6.3"
  }
 },
 "nbformat": 4,
 "nbformat_minor": 2
}
