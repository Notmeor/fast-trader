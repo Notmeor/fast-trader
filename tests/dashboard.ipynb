{
 "cells": [
  {
   "cell_type": "code",
   "execution_count": 1,
   "metadata": {},
   "outputs": [],
   "source": [
    "%matplotlib inline"
   ]
  },
  {
   "cell_type": "code",
   "execution_count": 2,
   "metadata": {},
   "outputs": [],
   "source": [
    "from IPython.display import display, HTML\n",
    "from ipywidgets import interact, Layout\n",
    "import ipywidgets as widgets"
   ]
  },
  {
   "cell_type": "code",
   "execution_count": 3,
   "metadata": {},
   "outputs": [],
   "source": [
    "import os\n",
    "import threading\n",
    "import collections"
   ]
  },
  {
   "cell_type": "code",
   "execution_count": 4,
   "metadata": {},
   "outputs": [
    {
     "data": {
      "text/plain": [
       "(13067, 140132774864640)"
      ]
     },
     "execution_count": 4,
     "metadata": {},
     "output_type": "execute_result"
    }
   ],
   "source": [
    "os.getpid(), threading.get_ident()"
   ]
  },
  {
   "cell_type": "code",
   "execution_count": 5,
   "metadata": {},
   "outputs": [],
   "source": [
    "\n",
    "import time\n",
    "import datetime\n",
    "import decimal\n",
    "import warnings\n",
    "\n",
    "import collections\n",
    "\n",
    "from fast_trader.strategy import Strategy, get_strategy_instance\n",
    "from fast_trader.dtp_quote import QuoteFeed\n",
    "from fast_trader.utils import timeit\n",
    "\n",
    "from math import ceil"
   ]
  },
  {
   "cell_type": "code",
   "execution_count": 6,
   "metadata": {},
   "outputs": [],
   "source": [
    "from data_provider.datafeed.universe import Universe"
   ]
  },
  {
   "cell_type": "code",
   "execution_count": 7,
   "metadata": {},
   "outputs": [],
   "source": [
    "out = widgets.Output()"
   ]
  },
  {
   "cell_type": "code",
   "execution_count": 8,
   "metadata": {},
   "outputs": [],
   "source": [
    "\n",
    "\n",
    "class TWAP(Strategy):\n",
    "    \n",
    "    def on_start(self):\n",
    "        self.market_trades = collections.defaultdict(list)\n",
    "\n",
    "    def on_market_trade(self, data):\n",
    "        if data.nPrice > 0:\n",
    "            self.market_trades[data.szCode].append(data)\n",
    "\n",
    "    def on_trade_tmp(self, trade):\n",
    "        pass\n",
    "        print(trade.message)\n",
    "\n",
    "    \n",
    "    def on_order_tmp(self, order):\n",
    "        self.logger.info(order)\n",
    "        pass\n",
    "        print('test:', order.message)\n",
    "        time.sleep(1)\n",
    "        with out:\n",
    "            print(order.message)\n",
    "\n",
    "\n",
    "    def on_order_cancelation(self, msg):\n",
    "        print(msg.body)\n",
    "\n"
   ]
  },
  {
   "cell_type": "code",
   "execution_count": 9,
   "metadata": {},
   "outputs": [],
   "source": [
    "def test_time_weighted_ordering(total_quantity=1000000,\n",
    "                                total_seconds=100,\n",
    "                                interval=10):\n",
    "    \n",
    "    times = int(total_seconds / interval) + 1\n",
    "    size_unit = ceil(total_quantity / 100 / times)\n",
    "    # residule = total_quantity % times\n",
    "    \n",
    "    quantity_left = total_quantity\n",
    "    for i in range(times):\n",
    "        code = '600030'\n",
    "        # price = ea.market_trades[code][-1].nPrice / 10000\n",
    "        price = 9.9\n",
    "        quantity = min(quantity_left, size_unit * 100)\n",
    "        print('size:', quantity)\n",
    "        ea.buy(code, price, quantity)\n",
    "        quantity_left -= quantity\n",
    "        \n",
    "        if quantity_left <= 0:\n",
    "            print('Finished', quantity_left)\n",
    "            break\n",
    "        time.sleep(interval)\n"
   ]
  },
  {
   "cell_type": "code",
   "execution_count": 10,
   "metadata": {},
   "outputs": [
    {
     "name": "stdout",
     "output_type": "stream",
     "text": [
      "2018-11-26 15:25:46,333 - MainThread - fast_trader.dtp_trade.Trader - WARNING - 初始请求编号 策略=3 567557060\n"
     ]
    }
   ],
   "source": [
    "ea = get_strategy_instance(TWAP, 3)\n",
    "\n",
    "from data_provider.datafeed.universe import Universe\n",
    "sz50 = Universe().get_index_compose_weight_by_date('000016.SH', '20181109')\n",
    "codes = sz50.securityId.tolist()\n",
    "codes = [c[:6] for c in codes]\n",
    "\n",
    "datasource = QuoteFeed('trade_feed')\n",
    "datasource.subscribe(codes)\n",
    "\n",
    "ea.add_datasource(datasource)\n",
    "\n",
    "ea.start()"
   ]
  },
  {
   "cell_type": "code",
   "execution_count": 11,
   "metadata": {},
   "outputs": [
    {
     "data": {
      "text/plain": [
       "{'account_no': '021000062436',\n",
       " 'balance': '1000006503.160',\n",
       " 'available': '999919242.160',\n",
       " 'freeze': '87261.000',\n",
       " 'securities': '133960.770',\n",
       " 'total': '1000053202.930'}"
      ]
     },
     "execution_count": 11,
     "metadata": {},
     "output_type": "execute_result"
    }
   ],
   "source": [
    "ea.get_capital()"
   ]
  },
  {
   "cell_type": "code",
   "execution_count": 12,
   "metadata": {},
   "outputs": [],
   "source": [
    "def get_stock_name(code):\n",
    "    if not hasattr(get_stock_name, '_pairs'):\n",
    "        ipo_info = Universe().get_all_ipo_info()\n",
    "        pairs = ipo_info[['name', 'ticker']].set_index(\n",
    "            'ticker')['name'].to_dict()\n",
    "        get_stock_name._pairs = pairs\n",
    "\n",
    "    if '.' not in code:\n",
    "        if code.startswith('6'):\n",
    "            code += '.SH'\n",
    "        else:\n",
    "            code += '.SZ'\n",
    "    try:\n",
    "        return get_stock_name._pairs[code]\n",
    "    except KeyError:\n",
    "        return '未知代码'\n"
   ]
  },
  {
   "cell_type": "code",
   "execution_count": 15,
   "metadata": {},
   "outputs": [
    {
     "data": {
      "text/plain": [
       "[]"
      ]
     },
     "execution_count": 15,
     "metadata": {},
     "output_type": "execute_result"
    }
   ],
   "source": [
    "ea.get_positions()"
   ]
  },
  {
   "cell_type": "code",
   "execution_count": null,
   "metadata": {},
   "outputs": [],
   "source": [
    "account_label_dict = collections.OrderedDict([\n",
    "    ('账户', 'account_no'),\n",
    "    ('余额', 'balance'),\n",
    "    ('可用资金', 'available'),\n",
    "    ('冻结金额', 'freeze'),\n",
    "    ('证券市值', 'securities'),\n",
    "    ('总资产', 'total')\n",
    "])\n",
    "\n",
    "trade_label_dict = collections.OrderedDict([\n",
    "    ('证券代码', 'code'),\n",
    "    ('证券名称', 'name'),\n",
    "    ('交易方向', 'order_side'),\n",
    "    ('成交价格', 'fill_price'),\n",
    "    ('成交数量', 'fill_quantity'),\n",
    "    ('状态', 'fill_status'),\n",
    "    ('成交时间', 'fill_time'),\n",
    "    ('成交金额', 'fill_amount'),\n",
    "    ('清算资金', 'clear_amount'),\n",
    "    ('客户委托编号', 'order_original_id'),\n",
    "    ('交易所委托编号', 'order_exchange_id'),\n",
    "    ('交易所成交编号', 'fill_exchange_id'),\n",
    "    ('交易所', 'exchange')])\n",
    "        \n",
    "order_label_dict = collections.OrderedDict([\n",
    "    ('证券代码', 'code'),\n",
    "    ('证券名称', 'name'),\n",
    "    ('委托价格', 'price'),\n",
    "    ('委托数量', 'quantity'),\n",
    "    ('已成交数量', 'total_fill_quantity'),\n",
    "    ('交易方向', 'order_side'),\n",
    "    ('报价类型', 'order_type'),\n",
    "    ('状态', 'status_message'),\n",
    "    ('委托时间', 'order_time'),\n",
    "    ('冻结资金', 'freeze_amount'),\n",
    "    ('交易所委托编号', 'order_exchange_id'),\n",
    "    ('客户委托编号', 'order_original_id'),\n",
    "    ('交易所', 'exchange')])\n",
    "\n",
    "# position_label_dict = collections.OrderedDict([\n",
    "#     ('证券代码', 'code'),\n",
    "#     ('证券名称', 'name'),\n",
    "#     ('交易所', 'exchange'),\n",
    "#     ('持仓', 'balance'),\n",
    "#     ('可用数量', 'available_quantity'),\n",
    "#     ('冻结数量', 'freeze_quantity'),\n",
    "#     ('买入数量', 'buy_quantity'),\n",
    "#     ('卖出数量', 'sell_quantity'),\n",
    "#     ('市值', 'market_value'),\n",
    "#     ('成本价', 'cost')])\n",
    "\n",
    "position_label_dict = collections.OrderedDict([\n",
    "    ('证券代码', 'code'),\n",
    "    ('证券名称', 'name'),\n",
    "    ('持仓', 'quantity'),\n",
    "    ('成本价', 'cost_price'),\n",
    "    ('可用数量', 'available_quantity'),\n",
    "    ('冻结数量', 'freeze_quantity'),\n",
    "    ('买入数量', 'buy_quantity'),\n",
    "    ('卖出数量', 'sell_quantity'),\n",
    "    ('市值', 'market_value'),\n",
    "    ('交易所', 'exchange')])\n",
    "\n",
    "unit_cls = widgets.Button\n",
    "# unit_cls = widgets.Label\n",
    "\n",
    "# ATTR = 'value'\n",
    "ATTR = 'description'\n",
    "\n",
    "def apply_style(**kwargs):\n",
    "    def decorator(func):\n",
    "        def wrapper(*args, **kw):\n",
    "            obj = func(*args, **kw)\n",
    "            for k, v in kwargs.items():\n",
    "                setattr(obj.layout, k, v)\n",
    "            return obj\n",
    "        return wrapper\n",
    "    return decorator\n",
    "\n",
    "class Dashboard(object):\n",
    "    \n",
    "\n",
    "\n",
    "    def __init__(self, ea):\n",
    "        \n",
    "        self._running = False\n",
    "        self.ea = ea\n",
    "        \n",
    "        self.trading_panel = None\n",
    "        self.account_panel = None\n",
    "        self.trade_panel = None\n",
    "        self.order_panel = None\n",
    "        self.position_panel = None\n",
    "\n",
    "    def is_alive(self):\n",
    "        return self._running\n",
    "\n",
    "    @staticmethod\n",
    "    def has_item(panel, ident):\n",
    "        for child in panel.children:\n",
    "            if child.ident == ident:\n",
    "                return True\n",
    "        return False\n",
    "\n",
    "    @staticmethod\n",
    "    def create_panel(label_dict):\n",
    "        headers = [unit_cls(**{ATTR: label, 'button_style': ''})\n",
    "                   for label in label_dict]\n",
    "        [setattr(el.style, 'font_weight', 'bold') for el in headers]\n",
    "        header_box = widgets.HBox(headers)\n",
    "        header_box.ident = 'header'\n",
    "#         placeholder = widgets.HTML('<hr>')\n",
    "#         placeholder.ident = 'placeholder'\n",
    "#         panel = widgets.VBox([header_box, placeholder])\n",
    "        panel = widgets.VBox([header_box])\n",
    "        return panel\n",
    "\n",
    "    @staticmethod\n",
    "    def add_panel_entry(panel, label_dict, entry, ident):\n",
    "        def to_widget(entry):\n",
    "            item = widgets.HBox([unit_cls(**{ATTR: str(entry.get(v, '-')),\n",
    "                                             'style': {'button_color': 'white'}})\n",
    "                                 for v in label_dict.values()])\n",
    "            return item\n",
    "        item = to_widget(entry)\n",
    "        item.ident = ident\n",
    "        panel.children = (*panel.children[:1], item, *panel.children[1:])\n",
    "\n",
    "    @staticmethod\n",
    "    def update_panel_entry(panel, label_dict, entry, ident, upsert=True):\n",
    "        \n",
    "        if upsert:\n",
    "            if not Dashboard.has_item(panel, ident):\n",
    "                Dashboard.add_panel_entry(panel, label_dict, entry, ident)\n",
    "                return\n",
    "                \n",
    "        fields = list(label_dict.values())\n",
    "        for child in panel.children:\n",
    "            if child.ident == ident:\n",
    "                for i, el in enumerate(child.children):\n",
    "                    key = fields[i]\n",
    "                    if key in entry:\n",
    "                        setattr(el, ATTR, str(entry[key]))\n",
    "                break\n",
    "    \n",
    "    @apply_style(width='fit-content')\n",
    "    def create_account_panel(self):\n",
    "        self.account_panel = self.create_panel(account_label_dict)\n",
    "        return self.account_panel\n",
    "    \n",
    "    def update_account_panel(self, entry):\n",
    "        ident = entry['account_no']\n",
    "        self.update_panel_entry(\n",
    "            self.account_panel,\n",
    "            account_label_dict,\n",
    "            entry=entry,\n",
    "            ident=ident)\n",
    "\n",
    "    def refresh_capital(self):\n",
    "        capital = self.ea.get_capital()\n",
    "        self.update_account_panel(capital)\n",
    "    \n",
    "    @apply_style(width='fit-content')\n",
    "    def create_trade_panel(self):\n",
    "        self.trade_panel = self.create_panel(trade_label_dict)\n",
    "        return self.trade_panel\n",
    "\n",
    "    @timeit\n",
    "    def update_trade_panel(self, entry):\n",
    "        ident = entry['order_original_id']\n",
    "        self.update_panel_entry(\n",
    "            self.trade_panel,\n",
    "            trade_label_dict,\n",
    "            entry=entry,\n",
    "            ident=ident)\n",
    "        \n",
    "    def refresh_trade_panel(self):\n",
    "        trades = self.ea.get_trades()\n",
    "        for trade in trades:\n",
    "            ident = trade['order_original_id']\n",
    "            if self.has_item(self.trade_panel, ident):\n",
    "                continue\n",
    "            self.update_trade_panel(trade)\n",
    "\n",
    "    @apply_style(width='fit-content')\n",
    "    def create_position_panel(self):\n",
    "        self.position_panel = self.create_panel(position_label_dict)\n",
    "        return self.position_panel\n",
    "\n",
    "    @timeit\n",
    "    def update_position_panel(self, entry):\n",
    "        ident = entry['code']\n",
    "        self.update_panel_entry(\n",
    "            self.position_panel,\n",
    "            position_label_dict,\n",
    "            entry=entry,\n",
    "            ident=ident)\n",
    "        \n",
    "    def refresh_position_panel(self):\n",
    "        positions = self.ea.get_positions()\n",
    "        for pos in positions:\n",
    "            ident = pos['code']\n",
    "#             if self.has_item(self.position_panel, ident):\n",
    "#                 continue\n",
    "            self.update_position_panel(pos)\n",
    "    \n",
    "    @apply_style(width='fit-content')\n",
    "    def create_order_panel(self):\n",
    "        self.order_panel = self.create_panel(order_label_dict)\n",
    "        return self.order_panel\n",
    "\n",
    "    @timeit\n",
    "    def update_order_panel(self, entry):\n",
    "        ident = entry['order_original_id']\n",
    "        self.update_panel_entry(\n",
    "            self.order_panel,\n",
    "            order_label_dict,\n",
    "            entry=entry,\n",
    "            ident=ident)\n",
    "        \n",
    "    def refresh_order_panel(self):\n",
    "        orders = self.ea.get_open_orders()\n",
    "        valid_idents = ['header']\n",
    "        for order in orders:\n",
    "            ident = order['order_original_id']\n",
    "            valid_idents.append(ident)\n",
    "            if self.has_item(self.order_panel, ident):\n",
    "                continue\n",
    "            self.update_order_panel(order)\n",
    "        \n",
    "#         children_to_remove = []\n",
    "#         for child in self.order_panel.children[1:]:\n",
    "#             if child.ident not in valid_idents:\n",
    "#                 children_to_remove.append(child)\n",
    "        self.order_panel.children = [child for child in self.order_panel.children \n",
    "                                     if child.ident in valid_idents]\n",
    "\n",
    "    def run(self):\n",
    "        self._running = True\n",
    "        while self._running:\n",
    "\n",
    "            time.sleep(0.5)\n",
    "            if self.account_panel:\n",
    "                self.refresh_capital()\n",
    "            if self.trade_panel:\n",
    "                self.refresh_trade_panel()\n",
    "            if self.position_panel:\n",
    "                self.refresh_position_panel()\n",
    "            if self.order_panel:\n",
    "                self.refresh_order_panel()\n",
    "    \n",
    "    def refresh_dashboard(self):\n",
    "        self._thread = threading.Thread(target=self.run)\n",
    "        self._thread.start()\n",
    "            "
   ]
  },
  {
   "cell_type": "markdown",
   "metadata": {},
   "source": []
  },
  {
   "cell_type": "code",
   "execution_count": null,
   "metadata": {},
   "outputs": [],
   "source": [
    "da = Dashboard(ea)"
   ]
  },
  {
   "cell_type": "markdown",
   "metadata": {},
   "source": [
    "### 账户"
   ]
  },
  {
   "cell_type": "code",
   "execution_count": null,
   "metadata": {},
   "outputs": [],
   "source": [
    "account_panel = da.create_account_panel()\n",
    "account_panel"
   ]
  },
  {
   "cell_type": "code",
   "execution_count": null,
   "metadata": {},
   "outputs": [],
   "source": []
  },
  {
   "cell_type": "code",
   "execution_count": null,
   "metadata": {},
   "outputs": [],
   "source": [
    "da.refresh_capital()"
   ]
  },
  {
   "cell_type": "markdown",
   "metadata": {},
   "source": [
    "### 委托列表"
   ]
  },
  {
   "cell_type": "code",
   "execution_count": null,
   "metadata": {},
   "outputs": [],
   "source": [
    "order_panel = da.create_order_panel()\n",
    "order_panel"
   ]
  },
  {
   "cell_type": "code",
   "execution_count": null,
   "metadata": {},
   "outputs": [],
   "source": [
    "# da.refresh_order_panel()"
   ]
  },
  {
   "cell_type": "markdown",
   "metadata": {},
   "source": [
    "### 持仓列表"
   ]
  },
  {
   "cell_type": "code",
   "execution_count": null,
   "metadata": {},
   "outputs": [],
   "source": [
    "position_panel = da.create_position_panel()\n",
    "position_panel"
   ]
  },
  {
   "cell_type": "code",
   "execution_count": null,
   "metadata": {},
   "outputs": [],
   "source": [
    "da.refresh_position_panel()"
   ]
  },
  {
   "cell_type": "markdown",
   "metadata": {},
   "source": [
    "### 成交列表"
   ]
  },
  {
   "cell_type": "code",
   "execution_count": null,
   "metadata": {},
   "outputs": [],
   "source": [
    "trade_panel = da.create_trade_panel()\n",
    "trade_panel"
   ]
  },
  {
   "cell_type": "code",
   "execution_count": null,
   "metadata": {},
   "outputs": [],
   "source": [
    "# da.refresh_trade_panel()"
   ]
  },
  {
   "cell_type": "code",
   "execution_count": null,
   "metadata": {},
   "outputs": [],
   "source": [
    "da.refresh_dashboard()"
   ]
  },
  {
   "cell_type": "code",
   "execution_count": null,
   "metadata": {},
   "outputs": [],
   "source": [
    "ea.positions['600016']"
   ]
  },
  {
   "cell_type": "code",
   "execution_count": null,
   "metadata": {},
   "outputs": [],
   "source": []
  }
 ],
 "metadata": {
  "kernelspec": {
   "display_name": "Python 3",
   "language": "python",
   "name": "python3"
  },
  "language_info": {
   "codemirror_mode": {
    "name": "ipython",
    "version": 3
   },
   "file_extension": ".py",
   "mimetype": "text/x-python",
   "name": "python",
   "nbconvert_exporter": "python",
   "pygments_lexer": "ipython3",
   "version": "3.6.3"
  }
 },
 "nbformat": 4,
 "nbformat_minor": 2
}
