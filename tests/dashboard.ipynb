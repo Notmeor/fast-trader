{
 "cells": [
  {
   "cell_type": "code",
   "execution_count": 1,
   "metadata": {},
   "outputs": [],
   "source": [
    "%matplotlib inline"
   ]
  },
  {
   "cell_type": "code",
   "execution_count": 2,
   "metadata": {},
   "outputs": [],
   "source": [
    "from IPython.display import display, HTML\n",
    "from ipywidgets import interact, Layout\n",
    "import ipywidgets as widgets"
   ]
  },
  {
   "cell_type": "code",
   "execution_count": 3,
   "metadata": {},
   "outputs": [],
   "source": [
    "import os\n",
    "import threading\n",
    "import collections"
   ]
  },
  {
   "cell_type": "code",
   "execution_count": 4,
   "metadata": {},
   "outputs": [
    {
     "data": {
      "text/plain": [
       "(5141, 140210553394944)"
      ]
     },
     "execution_count": 4,
     "metadata": {},
     "output_type": "execute_result"
    }
   ],
   "source": [
    "os.getpid(), threading.get_ident()"
   ]
  },
  {
   "cell_type": "code",
   "execution_count": 5,
   "metadata": {},
   "outputs": [],
   "source": [
    "\n",
    "import time\n",
    "import datetime\n",
    "import decimal\n",
    "import warnings\n",
    "\n",
    "import collections\n",
    "\n",
    "from fast_trader.strategy import Strategy, StrategyFactory\n",
    "from fast_trader.dtp_quote import TradeFeed, TickFeed\n",
    "from fast_trader.utils import timeit\n",
    "from fast_trader import dashboard\n",
    "\n",
    "from math import ceil"
   ]
  },
  {
   "cell_type": "code",
   "execution_count": 6,
   "metadata": {},
   "outputs": [],
   "source": [
    "from data_provider.datafeed.universe import Universe"
   ]
  },
  {
   "cell_type": "code",
   "execution_count": 7,
   "metadata": {},
   "outputs": [],
   "source": [
    "out = widgets.Output()"
   ]
  },
  {
   "cell_type": "code",
   "execution_count": 8,
   "metadata": {},
   "outputs": [],
   "source": [
    "\n",
    "\n",
    "class TWAP(Strategy):\n",
    "    \n",
    "    def on_start(self):\n",
    "        self.market_trades = collections.defaultdict(list)\n",
    "\n",
    "    def on_market_trade(self, data):\n",
    "        if data.nPrice > 0:\n",
    "            self.market_trades[data.szCode].append(data)\n",
    "\n",
    "    def on_trade(self, trade):\n",
    "        pass\n",
    "        # print(trade.message)\n",
    "\n",
    "    \n",
    "    def on_order(self, order):\n",
    "        pass\n",
    "#         self.logger.info(order)\n",
    "#         pass\n",
    "#         print('test:', order.message)\n",
    "#         time.sleep(1)\n",
    "#         with out:\n",
    "#             print(order.message)\n",
    "\n",
    "\n",
    "    def on_order_cancelation(self, msg):\n",
    "        print(msg.body)\n",
    "\n"
   ]
  },
  {
   "cell_type": "code",
   "execution_count": 9,
   "metadata": {},
   "outputs": [],
   "source": [
    "def test_time_weighted_ordering(total_quantity=1000000,\n",
    "                                total_seconds=100,\n",
    "                                interval=10):\n",
    "    \n",
    "    times = int(total_seconds / interval) + 1\n",
    "    size_unit = ceil(total_quantity / 100 / times)\n",
    "    # residule = total_quantity % times\n",
    "    \n",
    "    quantity_left = total_quantity\n",
    "    for i in range(times):\n",
    "        code = '600030'\n",
    "        # price = ea.market_trades[code][-1].nPrice / 10000\n",
    "        price = 9.9\n",
    "        quantity = min(quantity_left, size_unit * 100)\n",
    "        print('size:', quantity)\n",
    "        ea.buy(code, price, quantity)\n",
    "        quantity_left -= quantity\n",
    "        \n",
    "        if quantity_left <= 0:\n",
    "            print('Finished', quantity_left)\n",
    "            break\n",
    "        time.sleep(interval)\n"
   ]
  },
  {
   "cell_type": "code",
   "execution_count": 10,
   "metadata": {},
   "outputs": [
    {
     "name": "stdout",
     "output_type": "stream",
     "text": [
      "strategy_range range(1073741321, 1288489585)\n",
      "ranges [range(1073741321, 1095216047), range(1095216047, 1116690773), range(1116690773, 1138165499), range(1138165499, 1159640225), range(1159640225, 1181114951), range(1181114951, 1202589677), range(1202589677, 1224064403), range(1224064403, 1245539129), range(1245539129, 1267013855), range(1267013855, 1288488581)]\n",
      "trader_ranges {(5, 0): range(1073741321, 1095215047), (5, 1): range(1095216047, 1116689773), (5, 2): range(1116690773, 1138164499), (5, 3): range(1138165499, 1159639225), (5, 4): range(1159640225, 1181113951), (5, 5): range(1181114951, 1202588677), (5, 6): range(1202589677, 1224063403), (5, 7): range(1224064403, 1245538129), (5, 8): range(1245539129, 1267012855), (5, 9): range(1267013855, 1288487581)}\n",
      "2018-11-29 13:28:24,577 - MainThread - fast_trader.dtp_trade.Trader - WARNING - 初始请求编号 策略=5 1107271160\n"
     ]
    }
   ],
   "source": [
    "factory = StrategyFactory()\n",
    "ea = factory.generate_strategy(TWAP, trader_id=1, strategy_id=5)\n",
    "\n",
    "from data_provider.datafeed.universe import Universe\n",
    "sz50 = Universe().get_index_compose_weight_by_date('000016.SH', '20181109')\n",
    "codes = sz50.securityId.tolist()\n",
    "codes = [c[:6] for c in codes]\n",
    "\n",
    "# datasource = TradeFeed()\n",
    "# datasource.subscribe(codes)\n",
    "\n",
    "# ea.add_datasource(datasource)\n",
    "\n",
    "ea.start()"
   ]
  },
  {
   "cell_type": "code",
   "execution_count": 11,
   "metadata": {},
   "outputs": [],
   "source": [
    "# mock_order_list = [{'order_exchange_id': '15961', 'order_original_id': '304067777', 'exchange': 1, 'code': '600030', 'name': '中信证券', 'price': '17.220', 'quantity': 91000, 'order_side': 1, 'order_type': 1, 'status': 4, 'order_time': '13:20:33', 'account_no': '021000062436', 'average_fill_price': '17.220', 'total_fill_quantity': 91000, 'total_fill_amount': '1567020.000', 'freeze_amount': '1571752.400', 'clear_amount': '-1571752.400', 'total_cancelled_quantity': 0, 'status_message': '全部成交'}, {'order_exchange_id': '15963', 'order_original_id': '304067778', 'exchange': 1, 'code': '600030', 'name': '中信证券', 'price': '17.220', 'quantity': 91000, 'order_side': 1, 'order_type': 1, 'status': 4, 'order_time': '13:20:43', 'account_no': '021000062436', 'average_fill_price': '17.220', 'total_fill_quantity': 91000, 'total_fill_amount': '1567020.000', 'freeze_amount': '1571752.400', 'clear_amount': '-1571752.400', 'total_cancelled_quantity': 0, 'status_message': '全部成交'}, {'order_exchange_id': '15971', 'order_original_id': '304067779', 'exchange': 1, 'code': '600030', 'name': '中信证券', 'price': '17.220', 'quantity': 91000, 'order_side': 1, 'order_type': 1, 'status': 4, 'order_time': '13:20:53', 'account_no': '021000062436', 'average_fill_price': '17.220', 'total_fill_quantity': 91000, 'total_fill_amount': '1567020.000', 'freeze_amount': '1571752.400', 'clear_amount': '-1571752.400', 'total_cancelled_quantity': 0, 'status_message': '全部成交'}, {'order_exchange_id': '15974', 'order_original_id': '304067780', 'exchange': 1, 'code': '600030', 'name': '中信证券', 'price': '17.220', 'quantity': 91000, 'order_side': 1, 'order_type': 1, 'status': 4, 'order_time': '13:21:03', 'account_no': '021000062436', 'average_fill_price': '17.220', 'total_fill_quantity': 91000, 'total_fill_amount': '1567020.000', 'freeze_amount': '1571752.400', 'clear_amount': '-1571752.400', 'total_cancelled_quantity': 0, 'status_message': '全部成交'}, {'order_exchange_id': '15980', 'order_original_id': '304067781', 'exchange': 1, 'code': '600030', 'name': '中信证券', 'price': '17.220', 'quantity': 91000, 'order_side': 1, 'order_type': 1, 'status': 4, 'order_time': '13:21:13', 'account_no': '021000062436', 'average_fill_price': '17.220', 'total_fill_quantity': 91000, 'total_fill_amount': '1567020.000', 'freeze_amount': '1571752.400', 'clear_amount': '-1571752.400', 'total_cancelled_quantity': 0, 'status_message': '全部成交'}, {'order_exchange_id': '15990', 'order_original_id': '304067782', 'exchange': 1, 'code': '600030', 'name': '中信证券', 'price': '17.220', 'quantity': 91000, 'order_side': 1, 'order_type': 1, 'status': 4, 'order_time': '13:21:23', 'account_no': '021000062436', 'average_fill_price': '17.220', 'total_fill_quantity': 91000, 'total_fill_amount': '1567020.000', 'freeze_amount': '1571752.400', 'clear_amount': '-1571752.400', 'total_cancelled_quantity': 0, 'status_message': '全部成交'}, {'order_exchange_id': '15998', 'order_original_id': '304067783', 'exchange': 1, 'code': '600030', 'name': '中信证券', 'price': '17.220', 'quantity': 91000, 'order_side': 1, 'order_type': 1, 'status': 4, 'order_time': '13:21:33', 'account_no': '021000062436', 'average_fill_price': '17.220', 'total_fill_quantity': 91000, 'total_fill_amount': '1567020.000', 'freeze_amount': '1571752.400', 'clear_amount': '-1571752.400', 'total_cancelled_quantity': 0, 'status_message': '全部成交'}, {'order_exchange_id': '16003', 'order_original_id': '304067784', 'exchange': 1, 'code': '600030', 'name': '中信证券', 'price': '17.220', 'quantity': 91000, 'order_side': 1, 'order_type': 1, 'status': 4, 'order_time': '13:21:44', 'account_no': '021000062436', 'average_fill_price': '17.220', 'total_fill_quantity': 91000, 'total_fill_amount': '1567020.000', 'freeze_amount': '1571752.400', 'clear_amount': '-1571752.400', 'total_cancelled_quantity': 0, 'status_message': '全部成交'}, {'order_exchange_id': '16007', 'order_original_id': '304067785', 'exchange': 1, 'code': '600030', 'name': '中信证券', 'price': '17.220', 'quantity': 91000, 'order_side': 1, 'order_type': 1, 'status': 4, 'order_time': '13:21:54', 'account_no': '021000062436', 'average_fill_price': '17.220', 'total_fill_quantity': 91000, 'total_fill_amount': '1567020.000', 'freeze_amount': '1571752.400', 'clear_amount': '-1571752.400', 'total_cancelled_quantity': 0, 'status_message': '全部成交'}, {'order_exchange_id': '16011', 'order_original_id': '304067786', 'exchange': 1, 'code': '600030', 'name': '中信证券', 'price': '17.220', 'quantity': 91000, 'order_side': 1, 'order_type': 1, 'status': 4, 'order_time': '13:22:04', 'account_no': '021000062436', 'average_fill_price': '17.220', 'total_fill_quantity': 91000, 'total_fill_amount': '1567020.000', 'freeze_amount': '1571752.400', 'clear_amount': '-1571752.400', 'total_cancelled_quantity': 0, 'status_message': '全部成交'}, {'order_exchange_id': '16018', 'order_original_id': '304067787', 'exchange': 1, 'code': '600030', 'name': '中信证券', 'price': '17.220', 'quantity': 90000, 'order_side': 1, 'order_type': 1, 'status': 4, 'order_time': '13:22:14', 'account_no': '021000062436', 'average_fill_price': '17.220', 'total_fill_quantity': 90000, 'total_fill_amount': '1549800.000', 'freeze_amount': '1554480.400', 'clear_amount': '-1554480.400', 'total_cancelled_quantity': 0, 'status_message': '全部成交'}]\n",
    "\n",
    "# mock_position_list = [{'exchange': 1, 'code': '600027', 'name': '华电国际', 'balance': 2, 'available_quantity': 2, 'freeze_quantity': 0, 'buy_quantity': 0, 'sell_quantity': 0, 'market_value': '1639.800', 'cost': '-25.845'}, {'exchange': 1, 'code': '600187', 'name': '国中水务', 'balance': 2, 'available_quantity': 2, 'freeze_quantity': 0, 'buy_quantity': 0, 'sell_quantity': 0, 'market_value': '24.060', 'cost': '-20.225'}, {'exchange': 1, 'code': '600200', 'name': '江苏吴中', 'balance': 2, 'available_quantity': 2, 'freeze_quantity': 0, 'buy_quantity': 0, 'sell_quantity': 0, 'market_value': '32.320', 'cost': '-3.825'}, {'exchange': 1, 'code': '600209', 'name': '罗顿发展', 'balance': 1, 'available_quantity': 1, 'freeze_quantity': 0, 'buy_quantity': 0, 'sell_quantity': 0, 'market_value': '11.520', 'cost': '-505.370'}, {'exchange': 1, 'code': '600228', 'name': '昌九生化', 'balance': 2, 'available_quantity': 2, 'freeze_quantity': 0, 'buy_quantity': 0, 'sell_quantity': 0, 'market_value': '75.520', 'cost': '-5.485'}, {'exchange': 1, 'code': '600256', 'name': '广汇能源', 'balance': 22, 'available_quantity': 22, 'freeze_quantity': 0, 'buy_quantity': 0, 'sell_quantity': 0, 'market_value': '1162.480', 'cost': '7.186'}, {'exchange': 1, 'code': '600362', 'name': '江西铜业', 'balance': 2, 'available_quantity': 2, 'freeze_quantity': 0, 'buy_quantity': 0, 'sell_quantity': 0, 'market_value': '72.220', 'cost': '455.510'}, {'exchange': 1, 'code': '600470', 'name': '六国化工', 'balance': 2, 'available_quantity': 2, 'freeze_quantity': 0, 'buy_quantity': 0, 'sell_quantity': 0, 'market_value': '16.760', 'cost': '150.725'}, {'exchange': 1, 'code': '600487', 'name': '亨通光电', 'balance': 9, 'available_quantity': 9, 'freeze_quantity': 0, 'buy_quantity': 0, 'sell_quantity': 0, 'market_value': '227.880', 'cost': '-1.748'}, {'exchange': 1, 'code': '600536', 'name': '中国软件', 'balance': 101, 'available_quantity': 101, 'freeze_quantity': 0, 'buy_quantity': 0, 'sell_quantity': 0, 'market_value': '1460.460', 'cost': '13.800'}, {'exchange': 1, 'code': '600549', 'name': '厦门钨业', 'balance': 3, 'available_quantity': 3, 'freeze_quantity': 0, 'buy_quantity': 0, 'sell_quantity': 0, 'market_value': '116.310', 'cost': '116.460'}, {'exchange': 1, 'code': '600550', 'name': '天威保变', 'balance': 200, 'available_quantity': 200, 'freeze_quantity': 0, 'buy_quantity': 0, 'sell_quantity': 0, 'market_value': '1476.000', 'cost': '9.975'}, {'exchange': 1, 'code': '600552', 'name': '方兴科技', 'balance': 2, 'available_quantity': 2, 'freeze_quantity': 0, 'buy_quantity': 0, 'sell_quantity': 0, 'market_value': '39.940', 'cost': '124.345'}, {'exchange': 1, 'code': '600606', 'name': '金丰投资', 'balance': 100, 'available_quantity': 100, 'freeze_quantity': 0, 'buy_quantity': 0, 'sell_quantity': 0, 'market_value': '800.000', 'cost': '19.893'}, {'exchange': 1, 'code': '600633', 'name': '浙报传媒', 'balance': 4, 'available_quantity': 4, 'freeze_quantity': 0, 'buy_quantity': 0, 'sell_quantity': 0, 'market_value': '77.560', 'cost': '150.778'}, {'exchange': 1, 'code': '600640', 'name': '号百控股', 'balance': 103, 'available_quantity': 103, 'freeze_quantity': 0, 'buy_quantity': 0, 'sell_quantity': 0, 'market_value': '967.170', 'cost': '22.662'}, {'exchange': 1, 'code': '600643', 'name': '爱建股份', 'balance': 3, 'available_quantity': 3, 'freeze_quantity': 0, 'buy_quantity': 0, 'sell_quantity': 0, 'market_value': '19.410', 'cost': '-17.447'}, {'exchange': 1, 'code': '600678', 'name': '四川金顶', 'balance': 2, 'available_quantity': 2, 'freeze_quantity': 0, 'buy_quantity': 0, 'sell_quantity': 0, 'market_value': '13.240', 'cost': '-356.475'}, {'exchange': 1, 'code': '600756', 'name': '浪潮软件', 'balance': 2, 'available_quantity': 2, 'freeze_quantity': 0, 'buy_quantity': 0, 'sell_quantity': 0, 'market_value': '20.700', 'cost': '-6.870'}, {'exchange': 1, 'code': '600880', 'name': '博瑞传播', 'balance': 6, 'available_quantity': 6, 'freeze_quantity': 0, 'buy_quantity': 0, 'sell_quantity': 0, 'market_value': '68.640', 'cost': '-72.210'}, {'exchange': 1, 'code': '600976', 'name': '武汉健民', 'balance': 2, 'available_quantity': 2, 'freeze_quantity': 0, 'buy_quantity': 0, 'sell_quantity': 0, 'market_value': '40.060', 'cost': '-33.260'}, {'exchange': 1, 'code': '601390', 'name': '中国中铁', 'balance': 100, 'available_quantity': 100, 'freeze_quantity': 0, 'buy_quantity': 0, 'sell_quantity': 0, 'market_value': '193.000', 'cost': '11.920'}, {'exchange': 1, 'code': '601789', 'name': '宁波建工', 'balance': 2, 'available_quantity': 2, 'freeze_quantity': 0, 'buy_quantity': 0, 'sell_quantity': 0, 'market_value': '16.000', 'cost': '-1.800'}, {'exchange': 1, 'code': '601808', 'name': 'XD中海油', 'balance': 3, 'available_quantity': 3, 'freeze_quantity': 0, 'buy_quantity': 0, 'sell_quantity': 0, 'market_value': '42.810', 'cost': '-200.600'}, {'exchange': 1, 'code': '601992', 'name': '金隅股份', 'balance': 2, 'available_quantity': 2, 'freeze_quantity': 0, 'buy_quantity': 0, 'sell_quantity': 0, 'market_value': '15.540', 'cost': '15.950'}, {'exchange': 1, 'code': '603181', 'name': '皇马科技', 'balance': 200, 'available_quantity': 200, 'freeze_quantity': 0, 'buy_quantity': 0, 'sell_quantity': 0, 'market_value': '3088.000', 'cost': '21.055'}, {'exchange': 2, 'code': '000166', 'name': '申万宏源', 'balance': 135, 'available_quantity': 135, 'freeze_quantity': 0, 'buy_quantity': 0, 'sell_quantity': 0, 'market_value': '610.200', 'cost': '14.277'}, {'exchange': 2, 'code': '000401', 'name': '冀东水泥', 'balance': 100, 'available_quantity': 100, 'freeze_quantity': 0, 'buy_quantity': 0, 'sell_quantity': 0, 'market_value': '1067.000', 'cost': '17.599'}, {'exchange': 2, 'code': '000856', 'name': '冀东装备', 'balance': 100, 'available_quantity': 100, 'freeze_quantity': 0, 'buy_quantity': 0, 'sell_quantity': 0, 'market_value': '1124.000', 'cost': '43.913'}, {'exchange': 2, 'code': '000962', 'name': '东方钽业', 'balance': 100, 'available_quantity': 100, 'freeze_quantity': 0, 'buy_quantity': 0, 'sell_quantity': 0, 'market_value': '692.000', 'cost': '12.706'}, {'exchange': 2, 'code': '001965', 'name': '招商公路', 'balance': 1, 'available_quantity': 1, 'freeze_quantity': 0, 'buy_quantity': 0, 'sell_quantity': 0, 'market_value': '8.620', 'cost': '5.790'}, {'exchange': 2, 'code': '002024', 'name': '苏宁易购', 'balance': 2, 'available_quantity': 2, 'freeze_quantity': 0, 'buy_quantity': 0, 'sell_quantity': 0, 'market_value': '23.180', 'cost': '1.080'}, {'exchange': 2, 'code': '002036', 'name': '联创电子', 'balance': 100, 'available_quantity': 100, 'freeze_quantity': 0, 'buy_quantity': 0, 'sell_quantity': 0, 'market_value': '978.000', 'cost': '10.394'}, {'exchange': 2, 'code': '002080', 'name': '中材科技', 'balance': 1, 'available_quantity': 1, 'freeze_quantity': 0, 'buy_quantity': 0, 'sell_quantity': 0, 'market_value': '8.100', 'cost': '-267.160'}, {'exchange': 2, 'code': '002081', 'name': '金 螳 螂', 'balance': 12, 'available_quantity': 12, 'freeze_quantity': 0, 'buy_quantity': 0, 'sell_quantity': 0, 'market_value': '107.760', 'cost': '-12.111'}, {'exchange': 2, 'code': '002085', 'name': '万丰奥威', 'balance': 5, 'available_quantity': 5, 'freeze_quantity': 0, 'buy_quantity': 0, 'sell_quantity': 0, 'market_value': '40.000', 'cost': '-2.514'}, {'exchange': 2, 'code': '002091', 'name': '江苏国泰', 'balance': 6, 'available_quantity': 6, 'freeze_quantity': 0, 'buy_quantity': 0, 'sell_quantity': 0, 'market_value': '33.600', 'cost': '-121.015'}, {'exchange': 2, 'code': '002140', 'name': '东华科技', 'balance': 2, 'available_quantity': 2, 'freeze_quantity': 0, 'buy_quantity': 0, 'sell_quantity': 0, 'market_value': '12.720', 'cost': '-71.470'}, {'exchange': 2, 'code': '002195', 'name': '二三四五', 'balance': 70, 'available_quantity': 70, 'freeze_quantity': 0, 'buy_quantity': 0, 'sell_quantity': 0, 'market_value': '300.300', 'cost': '51.829'}, {'exchange': 2, 'code': '002230', 'name': '科大讯飞', 'balance': 5, 'available_quantity': 5, 'freeze_quantity': 0, 'buy_quantity': 0, 'sell_quantity': 0, 'market_value': '121.450', 'cost': '-167.982'}, {'exchange': 2, 'code': '002235', 'name': '安妮股份', 'balance': 503, 'available_quantity': 503, 'freeze_quantity': 0, 'buy_quantity': 0, 'sell_quantity': 0, 'market_value': '3143.750', 'cost': '10.691'}, {'exchange': 2, 'code': '002259', 'name': 'ST升达', 'balance': 1, 'available_quantity': 1, 'freeze_quantity': 0, 'buy_quantity': 0, 'sell_quantity': 0, 'market_value': '2.860', 'cost': '-261.400'}, {'exchange': 2, 'code': '002263', 'name': '*ST东南', 'balance': 300, 'available_quantity': 300, 'freeze_quantity': 0, 'buy_quantity': 0, 'sell_quantity': 0, 'market_value': '585.000', 'cost': '4.503'}, {'exchange': 2, 'code': '002280', 'name': '联络互动', 'balance': 100, 'available_quantity': 100, 'freeze_quantity': 0, 'buy_quantity': 0, 'sell_quantity': 0, 'market_value': '447.000', 'cost': '31.551'}, {'exchange': 2, 'code': '002294', 'name': '信立泰', 'balance': 3, 'available_quantity': 3, 'freeze_quantity': 0, 'buy_quantity': 0, 'sell_quantity': 0, 'market_value': '77.400', 'cost': '7.247'}, {'exchange': 2, 'code': '002310', 'name': '东方园林', 'balance': 8, 'available_quantity': 8, 'freeze_quantity': 0, 'buy_quantity': 0, 'sell_quantity': 0, 'market_value': '80.960', 'cost': '-118.760'}, {'exchange': 2, 'code': '002346', 'name': '柘中股份', 'balance': 100, 'available_quantity': 100, 'freeze_quantity': 0, 'buy_quantity': 0, 'sell_quantity': 0, 'market_value': '1173.000', 'cost': '20.800'}, {'exchange': 2, 'code': '002375', 'name': '亚厦股份', 'balance': 8, 'available_quantity': 8, 'freeze_quantity': 0, 'buy_quantity': 0, 'sell_quantity': 0, 'market_value': '44.240', 'cost': '-58.284'}, {'exchange': 2, 'code': '002385', 'name': '大北农', 'balance': 3, 'available_quantity': 3, 'freeze_quantity': 0, 'buy_quantity': 0, 'sell_quantity': 0, 'market_value': '10.650', 'cost': '21.520'}, {'exchange': 2, 'code': '002397', 'name': '梦洁股份', 'balance': 9, 'available_quantity': 9, 'freeze_quantity': 0, 'buy_quantity': 0, 'sell_quantity': 0, 'market_value': '41.130', 'cost': '-28.819'}, {'exchange': 2, 'code': '002477', 'name': '雏鹰农牧', 'balance': 3, 'available_quantity': 3, 'freeze_quantity': 0, 'buy_quantity': 0, 'sell_quantity': 0, 'market_value': '5.730', 'cost': '-240.030'}, {'exchange': 2, 'code': '002635', 'name': '安洁科技', 'balance': 209, 'available_quantity': 209, 'freeze_quantity': 0, 'buy_quantity': 0, 'sell_quantity': 0, 'market_value': '2597.870', 'cost': '34.908'}, {'exchange': 2, 'code': '002638', 'name': '勤上股份', 'balance': 300, 'available_quantity': 300, 'freeze_quantity': 0, 'buy_quantity': 0, 'sell_quantity': 0, 'market_value': '933.000', 'cost': '5.787'}, {'exchange': 2, 'code': '002723', 'name': '金莱特', 'balance': 4, 'available_quantity': 4, 'freeze_quantity': 0, 'buy_quantity': 0, 'sell_quantity': 0, 'market_value': '41.680', 'cost': '-114.943'}, {'exchange': 2, 'code': '002746', 'name': '仙坛股份', 'balance': 100, 'available_quantity': 100, 'freeze_quantity': 0, 'buy_quantity': 0, 'sell_quantity': 0, 'market_value': '1501.000', 'cost': '22.110'}, {'exchange': 2, 'code': '002774', 'name': '快意电梯', 'balance': 100, 'available_quantity': 100, 'freeze_quantity': 0, 'buy_quantity': 0, 'sell_quantity': 0, 'market_value': '936.000', 'cost': '13.060'}, {'exchange': 2, 'code': '300020', 'name': '银江股份', 'balance': 100, 'available_quantity': 100, 'freeze_quantity': 0, 'buy_quantity': 0, 'sell_quantity': 0, 'market_value': '696.000', 'cost': '21.559'}, {'exchange': 2, 'code': '300101', 'name': '振芯科技', 'balance': 4, 'available_quantity': 4, 'freeze_quantity': 0, 'buy_quantity': 0, 'sell_quantity': 0, 'market_value': '43.440', 'cost': '-40.540'}, {'exchange': 2, 'code': '300104', 'name': '乐视网', 'balance': 800, 'available_quantity': 800, 'freeze_quantity': 0, 'buy_quantity': 0, 'sell_quantity': 0, 'market_value': '2912.000', 'cost': '16.249'}, {'exchange': 2, 'code': '300137', 'name': '先河环保', 'balance': 3, 'available_quantity': 3, 'freeze_quantity': 0, 'buy_quantity': 0, 'sell_quantity': 0, 'market_value': '24.930', 'cost': '-125.750'}, {'exchange': 2, 'code': '300157', 'name': '恒泰艾普', 'balance': 3, 'available_quantity': 3, 'freeze_quantity': 0, 'buy_quantity': 0, 'sell_quantity': 0, 'market_value': '14.550', 'cost': '-292.343'}, {'exchange': 2, 'code': '300183', 'name': '东软载波', 'balance': 2, 'available_quantity': 2, 'freeze_quantity': 0, 'buy_quantity': 0, 'sell_quantity': 0, 'market_value': '23.880', 'cost': '-35.795'}, {'exchange': 2, 'code': '300205', 'name': '天喻信息', 'balance': 2, 'available_quantity': 2, 'freeze_quantity': 0, 'buy_quantity': 0, 'sell_quantity': 0, 'market_value': '16.340', 'cost': '501.270'}, {'exchange': 2, 'code': '300209', 'name': '天泽信息', 'balance': 100, 'available_quantity': 100, 'freeze_quantity': 0, 'buy_quantity': 0, 'sell_quantity': 0, 'market_value': '1158.000', 'cost': '18.300'}, {'exchange': 2, 'code': '300229', 'name': '拓尔思', 'balance': 100, 'available_quantity': 100, 'freeze_quantity': 0, 'buy_quantity': 0, 'sell_quantity': 0, 'market_value': '947.000', 'cost': '56.907'}, {'exchange': 2, 'code': '300234', 'name': '开尔新材', 'balance': 2, 'available_quantity': 2, 'freeze_quantity': 0, 'buy_quantity': 0, 'sell_quantity': 0, 'market_value': '13.100', 'cost': '1961.865'}, {'exchange': 2, 'code': '300305', 'name': '裕兴股份', 'balance': 4, 'available_quantity': 4, 'freeze_quantity': 0, 'buy_quantity': 0, 'sell_quantity': 0, 'market_value': '26.920', 'cost': '-40.167'}, {'exchange': 2, 'code': '300311', 'name': '任子行', 'balance': 50, 'available_quantity': 50, 'freeze_quantity': 0, 'buy_quantity': 0, 'sell_quantity': 0, 'market_value': '327.000', 'cost': '90.652'}, {'exchange': 2, 'code': '300340', 'name': '科恒股份', 'balance': 2, 'available_quantity': 2, 'freeze_quantity': 0, 'buy_quantity': 0, 'sell_quantity': 0, 'market_value': '28.880', 'cost': '424.605'}, {'exchange': 2, 'code': '300352', 'name': '北信源', 'balance': 5, 'available_quantity': 5, 'freeze_quantity': 0, 'buy_quantity': 0, 'sell_quantity': 0, 'market_value': '18.200', 'cost': '175.170'}, {'exchange': 2, 'code': '300358', 'name': '楚天科技', 'balance': 100, 'available_quantity': 100, 'freeze_quantity': 0, 'buy_quantity': 0, 'sell_quantity': 0, 'market_value': '830.000', 'cost': '12.190'}, {'exchange': 2, 'code': '300433', 'name': '蓝思科技', 'balance': 117, 'available_quantity': 117, 'freeze_quantity': 0, 'buy_quantity': 0, 'sell_quantity': 0, 'market_value': '988.650', 'cost': '27.250'}, {'exchange': 2, 'code': '300708', 'name': '聚灿光电', 'balance': 100, 'available_quantity': 100, 'freeze_quantity': 0, 'buy_quantity': 0, 'sell_quantity': 0, 'market_value': '1239.000', 'cost': '28.210'}, {'exchange': 1, 'code': '600030', 'name': '中信证券', 'balance': 1000000, 'available_quantity': 0, 'freeze_quantity': 0, 'buy_quantity': 1000000, 'sell_quantity': 0, 'market_value': '3600000000.000', 'cost': '17.272'}]\n",
    "\n",
    "# mock_trade_list = [{'fill_exchange_id': 'b093910000000002', 'fill_time': '09:39:10', 'fill_status': 1, 'fill_price': '10.700', 'fill_quantity': 3000, 'fill_amount': '32100.000', 'clear_amount': '-32196.300', 'order_exchange_id': '1', 'order_original_id': '943938365', 'exchange': 2, 'code': '000001', 'name': '平安银行', 'order_side': 1}, {'fill_exchange_id': 'b094523000000006', 'fill_time': '09:45:23', 'fill_status': 1, 'fill_price': '10.600', 'fill_quantity': 14000, 'fill_amount': '148400.000', 'clear_amount': '-148845.200', 'order_exchange_id': '6', 'order_original_id': '943938366', 'exchange': 2, 'code': '000001', 'name': '平安银行', 'order_side': 1}, {'fill_exchange_id': 'b095146000002168', 'fill_time': '09:51:46', 'fill_status': 1, 'fill_price': '2.000', 'fill_quantity': 21000, 'fill_amount': '42000.000', 'clear_amount': '-42126.000', 'order_exchange_id': '2171', 'order_original_id': '943938367', 'exchange': 2, 'code': '300104', 'name': '乐视网', 'order_side': 1}, {'fill_exchange_id': '17747', 'fill_time': '10:13:26', 'fill_status': 1, 'fill_price': '560.000', 'fill_quantity': 6000, 'fill_amount': '3360000.000', 'clear_amount': '-3370147.200', 'order_exchange_id': '33355', 'order_original_id': '943938368', 'exchange': 1, 'code': '600519', 'name': '贵州茅台', 'order_side': 1}, {'fill_exchange_id': '40031', 'fill_time': '11:08:25', 'fill_status': 1, 'fill_price': '565.000', 'fill_quantity': 6000, 'fill_amount': '3390000.000', 'clear_amount': '-3400237.800', 'order_exchange_id': '72325', 'order_original_id': '957576377', 'exchange': 1, 'code': '600519', 'name': '贵州茅台', 'order_side': 1}, {'fill_exchange_id': '57692000', 'fill_time': '11:16:31', 'fill_status': 1, 'fill_price': '559.000', 'fill_quantity': 11000, 'fill_amount': '6149000.000', 'clear_amount': '-6167569.980', 'order_exchange_id': '102565', 'order_original_id': '957576378', 'exchange': 1, 'code': '600519', 'name': '贵州茅台', 'order_side': 1}, {'fill_exchange_id': '63273000', 'fill_time': '13:20:32', 'fill_status': 1, 'fill_price': '557.000', 'fill_quantity': 15000, 'fill_amount': '8355000.000', 'clear_amount': '-8380232.100', 'order_exchange_id': '109406', 'order_original_id': '979381787', 'exchange': 1, 'code': '600519', 'name': '贵州茅台', 'order_side': 1}, {'fill_exchange_id': 'b135602000013719', 'fill_time': '13:56:02', 'fill_status': 1, 'fill_price': '3.000', 'fill_quantity': 20000, 'fill_amount': '60000.000', 'clear_amount': '-60180.000', 'order_exchange_id': '123011', 'order_original_id': '123935159', 'exchange': 2, 'code': '300104', 'name': '乐视网', 'order_side': 1}, {'fill_exchange_id': '72943000', 'fill_time': '13:51:05', 'fill_status': 1, 'fill_price': '5.300', 'fill_quantity': 20000, 'fill_amount': '106000.000', 'clear_amount': '-106320.120', 'order_exchange_id': '126173', 'order_original_id': '123935160', 'exchange': 1, 'code': '600668', 'name': '尖峰集团', 'order_side': 1}, {'fill_exchange_id': '76740000', 'fill_time': '13:53:38', 'fill_status': 1, 'fill_price': '5.300', 'fill_quantity': 100000, 'fill_amount': '530000.000', 'clear_amount': '-531600.600', 'order_exchange_id': '132141', 'order_original_id': '123935161', 'exchange': 1, 'code': '600668', 'name': '尖峰集团', 'order_side': 1}, {'fill_exchange_id': '77373000', 'fill_time': '13:55:41', 'fill_status': 1, 'fill_price': '5.300', 'fill_quantity': 100000, 'fill_amount': '530000.000', 'clear_amount': '-531600.600', 'order_exchange_id': '133215', 'order_original_id': '123935162', 'exchange': 1, 'code': '601668', 'name': '中国建筑', 'order_side': 1}]\n",
    "\n",
    "# mock_capital = \\\n",
    "# {'account_no': '021000062436',\n",
    "#  'balance': '1000006503.160',\n",
    "#  'available': '980442001.960',\n",
    "#  'freeze': '19564501.200',\n",
    "#  'securities': '3982406736.490',\n",
    "#  'total': '4963241899.770'}\n",
    "\n",
    "# class EA(object):\n",
    "#     def get_capital(self):\n",
    "#         return mock_capital\n",
    "#     def get_orders(self):\n",
    "#         return mock_order_list[:50]\n",
    "#     def get_open_orders(self):\n",
    "#         return mock_order_list[:10]\n",
    "#     def get_trades(self):\n",
    "#         return mock_trade_list[:50]\n",
    "#     def get_positions(self):\n",
    "#         return mock_position_list[:50]\n",
    "\n",
    "# ea = EA()"
   ]
  },
  {
   "cell_type": "code",
   "execution_count": 12,
   "metadata": {},
   "outputs": [],
   "source": [
    "Dashboard = dashboard.Dashboard"
   ]
  },
  {
   "cell_type": "markdown",
   "metadata": {},
   "source": []
  },
  {
   "cell_type": "code",
   "execution_count": 13,
   "metadata": {},
   "outputs": [],
   "source": [
    "da = Dashboard(ea)\n",
    "da.refresh_interval = 30"
   ]
  },
  {
   "cell_type": "code",
   "execution_count": 14,
   "metadata": {},
   "outputs": [
    {
     "data": {
      "text/html": [
       "<style>\n",
       ".panel-header-item {\n",
       "    font-weight: light;\n",
       "    color: black;\n",
       "    background: lightgrey;//rgb(215, 109, 105);//var(--jp-error-color1);//;//\n",
       "}\n",
       "\n",
       ".panel-header {\n",
       "    background: lightgrey;//rgb(215, 109, 105);\n",
       "}\n",
       "\n",
       ".ordering-button {\n",
       "    background: rgb(215, 114, 42);//var(--jp-success-color1);\n",
       "    color: white;\n",
       "}\n",
       "\n",
       "</style>\n"
      ],
      "text/plain": [
       "<IPython.core.display.HTML object>"
      ]
     },
     "metadata": {},
     "output_type": "display_data"
    }
   ],
   "source": [
    "%%html\n",
    "<style>\n",
    ".panel-header-item {\n",
    "    font-weight: light;\n",
    "    color: black;\n",
    "    background: lightgrey;//rgb(215, 109, 105);//var(--jp-error-color1);//;//\n",
    "}\n",
    "\n",
    ".panel-header {\n",
    "    background: lightgrey;//rgb(215, 109, 105);\n",
    "}\n",
    "\n",
    ".ordering-button {\n",
    "    background: rgb(215, 114, 42);//var(--jp-success-color1);\n",
    "    color: white;\n",
    "}\n",
    "\n",
    "</style>"
   ]
  },
  {
   "cell_type": "code",
   "execution_count": 15,
   "metadata": {},
   "outputs": [
    {
     "data": {
      "application/vnd.jupyter.widget-view+json": {
       "model_id": "13510cba1e464cf386127dbd6b3fad4b",
       "version_major": 2,
       "version_minor": 0
      },
      "text/plain": [
       "GridBox(children=(Box(children=(Text(value='', description='股票代码'), Text(value='', continuous_update=False, de…"
      ]
     },
     "metadata": {},
     "output_type": "display_data"
    }
   ],
   "source": [
    "\n",
    "panels = []\n",
    "for name in ['trading_panel', 'account_panel', 'order_panel',\n",
    "             'position_panel', 'trade_panel']:\n",
    "    panel = getattr(da, 'create_{}'.format(name))()\n",
    "    panel.layout.grid_area = name\n",
    "    panel.layout.width = 'auto'\n",
    "    panel.layout.justify_content = 'space-around'\n",
    "    panels.append(panel)\n",
    "\n",
    "dock = widgets.GridBox(children=panels,\n",
    "        layout=Layout(\n",
    "            width='150%',\n",
    "            grid_template_rows='auto auto auto auto',\n",
    "            grid_template_columns='350px auto auto',\n",
    "            grid_template_areas='''\n",
    "            \"trading_panel account_panel account_panel\"\n",
    "            \"trading_panel position_panel position_panel\"\n",
    "            \"order_panel order_panel order_panel\"\n",
    "            \"trade_panel trade_panel trade_panel\"\n",
    "            ''')\n",
    "       \n",
    "       )\n",
    "dock"
   ]
  },
  {
   "cell_type": "code",
   "execution_count": 16,
   "metadata": {},
   "outputs": [
    {
     "name": "stdout",
     "output_type": "stream",
     "text": [
      "refresh_position_panel in 0.644635 secs\n",
      "refresh_order_panel in 0.926275 secs\n"
     ]
    }
   ],
   "source": [
    "da.refresh_all()"
   ]
  },
  {
   "cell_type": "code",
   "execution_count": 17,
   "metadata": {},
   "outputs": [
    {
     "name": "stdout",
     "output_type": "stream",
     "text": [
      "refresh_position_panel in 0.034619 secs\n",
      "refresh_order_panel in 0.041835 secs\n"
     ]
    }
   ],
   "source": [
    "da.refresh_dashboard()"
   ]
  },
  {
   "cell_type": "code",
   "execution_count": 18,
   "metadata": {},
   "outputs": [
    {
     "name": "stdout",
     "output_type": "stream",
     "text": [
      "refresh_position_panel in 0.001824 secs\n",
      "refresh_order_panel in 0.047905 secs\n",
      "refresh_position_panel in 0.001063 secs\n",
      "refresh_order_panel in 0.062157 secs\n",
      "refresh_position_panel in 0.000860 secs\n",
      "refresh_order_panel in 0.035088 secs\n",
      "refresh_position_panel in 0.000720 secs\n",
      "refresh_order_panel in 0.037919 secs\n",
      "refresh_position_panel in 0.001240 secs\n",
      "refresh_order_panel in 0.045226 secs\n",
      "refresh_position_panel in 0.001908 secs\n",
      "refresh_order_panel in 0.043177 secs\n",
      "refresh_position_panel in 0.000886 secs\n",
      "refresh_order_panel in 0.033093 secs\n"
     ]
    }
   ],
   "source": [
    "da.refresh_interval = 1"
   ]
  },
  {
   "cell_type": "code",
   "execution_count": null,
   "metadata": {},
   "outputs": [],
   "source": []
  }
 ],
 "metadata": {
  "kernelspec": {
   "display_name": "Python 3",
   "language": "python",
   "name": "python3"
  },
  "language_info": {
   "codemirror_mode": {
    "name": "ipython",
    "version": 3
   },
   "file_extension": ".py",
   "mimetype": "text/x-python",
   "name": "python",
   "nbconvert_exporter": "python",
   "pygments_lexer": "ipython3",
   "version": "3.6.3"
  }
 },
 "nbformat": 4,
 "nbformat_minor": 2
}
