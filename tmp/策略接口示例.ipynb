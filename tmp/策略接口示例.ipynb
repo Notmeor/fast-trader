{
 "cells": [
  {
   "cell_type": "markdown",
   "metadata": {},
   "source": [
    "## 依赖版本\n",
    "`fast-trader` *rest_api* 分支"
   ]
  },
  {
   "cell_type": "markdown",
   "metadata": {},
   "source": [
    "## 相关路径"
   ]
  },
  {
   "cell_type": "markdown",
   "metadata": {},
   "source": [
    "策略路径：`用户文档文件夹/fast_trader/strategies`   \n",
    "日志路径: `用户文档文件夹/fast_trader/logs`\n",
    "    \n",
    "复制项目`tmp`文件夹下的策略文件至*策略路径*文件夹，方便测试。"
   ]
  },
  {
   "cell_type": "code",
   "execution_count": 1,
   "metadata": {},
   "outputs": [
    {
     "name": "stderr",
     "output_type": "stream",
     "text": [
      "/opt/conda/lib/python3.6/site-packages/urllib3/connectionpool.py:847: InsecureRequestWarning: Unverified HTTPS request is being made. Adding certificate verification is strongly advised. See: https://urllib3.readthedocs.io/en/latest/advanced-usage.html#ssl-warnings\n",
      "  InsecureRequestWarning)\n"
     ]
    }
   ],
   "source": [
    "import os\n",
    "import time\n",
    "from pprint import pprint\n",
    "\n",
    "from fast_trader.app.strategy_manager import (\n",
    "    StrategyServer,\n",
    "    Manager\n",
    ")\n",
    "\n",
    "from fast_trader.app.strategy_proxy import (\n",
    "    get_strategy_list,\n",
    "    StrategyProxy\n",
    ")"
   ]
  },
  {
   "cell_type": "markdown",
   "metadata": {},
   "source": [
    "## 启动策略服务"
   ]
  },
  {
   "cell_type": "code",
   "execution_count": 2,
   "metadata": {},
   "outputs": [],
   "source": [
    "server = StrategyServer()\n",
    "server.start()"
   ]
  },
  {
   "cell_type": "markdown",
   "metadata": {},
   "source": [
    "## 获取策略列表"
   ]
  },
  {
   "cell_type": "code",
   "execution_count": 3,
   "metadata": {},
   "outputs": [
    {
     "name": "stdout",
     "output_type": "stream",
     "text": [
      "[]\n"
     ]
    }
   ],
   "source": [
    "pprint(get_strategy_list())"
   ]
  },
  {
   "cell_type": "markdown",
   "metadata": {},
   "source": [
    "## 连接至策略服务"
   ]
  },
  {
   "cell_type": "code",
   "execution_count": 4,
   "metadata": {
    "collapsed": true
   },
   "outputs": [],
   "source": [
    "proxy = StrategyProxy(strategy_id=6)"
   ]
  },
  {
   "cell_type": "markdown",
   "metadata": {},
   "source": [
    "## 启动策略"
   ]
  },
  {
   "cell_type": "code",
   "execution_count": 11,
   "metadata": {},
   "outputs": [
    {
     "name": "stdout",
     "output_type": "stream",
     "text": [
      "{'data': {'account_no': '011000106328',\n",
      "          'pid': 6564,\n",
      "          'running': True,\n",
      "          'start_time': '20190423 18:50:36.259773',\n",
      "          'strategy_id': 6,\n",
      "          'strategy_name': '早盘批量下单',\n",
      "          'token': 'abaa3880-06ed-465e-90f8-8b3b15922750'},\n",
      " 'ret_code': 0}\n"
     ]
    }
   ],
   "source": [
    "pprint(proxy.start_strategy())"
   ]
  },
  {
   "cell_type": "markdown",
   "metadata": {},
   "source": [
    "## 查询策略资金账户"
   ]
  },
  {
   "cell_type": "code",
   "execution_count": 12,
   "metadata": {},
   "outputs": [
    {
     "name": "stdout",
     "output_type": "stream",
     "text": [
      "{'data': {'account_no': '011000106328',\n",
      "          'available': '3049406412.240',\n",
      "          'balance': '3049411217.340',\n",
      "          'freeze': '4805.100',\n",
      "          'securities': '5850.000',\n",
      "          'total': '3049412262.240'},\n",
      " 'ret_code': 0}\n"
     ]
    }
   ],
   "source": [
    "pprint(proxy.get_capital())"
   ]
  },
  {
   "cell_type": "markdown",
   "metadata": {},
   "source": [
    "## 停止策略"
   ]
  },
  {
   "cell_type": "code",
   "execution_count": 13,
   "metadata": {},
   "outputs": [
    {
     "data": {
      "text/plain": [
       "{'data': None, 'ret_code': 0}"
      ]
     },
     "execution_count": 13,
     "metadata": {},
     "output_type": "execute_result"
    }
   ],
   "source": [
    "proxy.stop_strategy()"
   ]
  },
  {
   "cell_type": "code",
   "execution_count": null,
   "metadata": {
    "collapsed": true
   },
   "outputs": [],
   "source": []
  }
 ],
 "metadata": {
  "kernelspec": {
   "display_name": "Python 3",
   "language": "python",
   "name": "python3"
  },
  "language_info": {
   "codemirror_mode": {
    "name": "ipython",
    "version": 3
   },
   "file_extension": ".py",
   "mimetype": "text/x-python",
   "name": "python",
   "nbconvert_exporter": "python",
   "pygments_lexer": "ipython3",
   "version": "3.6.3"
  }
 },
 "nbformat": 4,
 "nbformat_minor": 2
}
