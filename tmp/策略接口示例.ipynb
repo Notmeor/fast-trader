{
 "cells": [
  {
   "cell_type": "markdown",
   "metadata": {},
   "source": [
    "## 依赖版本\n",
    "`fast-trader` *rest_api* 分支"
   ]
  },
  {
   "cell_type": "markdown",
   "metadata": {},
   "source": [
    "## 相关路径"
   ]
  },
  {
   "cell_type": "markdown",
   "metadata": {},
   "source": [
    "策略路径：`用户文档文件夹/fast_trader/strategies`   \n",
    "日志路径: `用户文档文件夹/fast_trader/logs`\n",
    "    \n",
    "复制项目`tmp`文件夹下的策略文件至*策略路径*文件夹，方便测试。"
   ]
  },
  {
   "cell_type": "markdown",
   "metadata": {},
   "source": [
    "## 設置配置文件路徑"
   ]
  },
  {
   "cell_type": "code",
   "execution_count": 13,
   "metadata": {},
   "outputs": [],
   "source": [
    "import os\n",
    "os.environ['FAST_TRADER_CONFIG'] = '/home/jovyan/work/fast-trader/tmp/config.yaml'"
   ]
  },
  {
   "cell_type": "code",
   "execution_count": 2,
   "metadata": {},
   "outputs": [],
   "source": [
    "\n",
    "import time\n",
    "from pprint import pprint\n",
    "\n",
    "from fast_trader.app.strategy_manager import (\n",
    "    StrategyServer,\n",
    "    Manager\n",
    ")\n",
    "\n",
    "from fast_trader.app.strategy_proxy import (\n",
    "    get_strategy_list,\n",
    "    StrategyProxy\n",
    ")"
   ]
  },
  {
   "cell_type": "markdown",
   "metadata": {},
   "source": [
    "## 启动策略服务"
   ]
  },
  {
   "cell_type": "code",
   "execution_count": 4,
   "metadata": {},
   "outputs": [],
   "source": [
    "server = StrategyServer()\n",
    "server.stop()\n",
    "time.sleep(2)\n",
    "server.start()"
   ]
  },
  {
   "cell_type": "markdown",
   "metadata": {},
   "source": [
    "## 获取策略列表"
   ]
  },
  {
   "cell_type": "code",
   "execution_count": 5,
   "metadata": {},
   "outputs": [
    {
     "name": "stdout",
     "output_type": "stream",
     "text": [
      "[{'running': False,\n",
      "  'start_time': '20190508 09:42:11.646868',\n",
      "  'strategy_id': 7,\n",
      "  'strategy_name': '早盘批量下单'}]\n"
     ]
    }
   ],
   "source": [
    "pprint(get_strategy_list())"
   ]
  },
  {
   "cell_type": "markdown",
   "metadata": {},
   "source": [
    "## 连接至策略服务"
   ]
  },
  {
   "cell_type": "code",
   "execution_count": 6,
   "metadata": {
    "collapsed": true
   },
   "outputs": [],
   "source": [
    "proxy = StrategyProxy(strategy_id=7)"
   ]
  },
  {
   "cell_type": "markdown",
   "metadata": {},
   "source": [
    "## 启动策略"
   ]
  },
  {
   "cell_type": "code",
   "execution_count": 7,
   "metadata": {},
   "outputs": [
    {
     "name": "stdout",
     "output_type": "stream",
     "text": [
      "{'data': None, 'ret_code': 0}\n"
     ]
    }
   ],
   "source": [
    "pprint(proxy.start_strategy())"
   ]
  },
  {
   "cell_type": "markdown",
   "metadata": {},
   "source": [
    "## 查询策略资金账户"
   ]
  },
  {
   "cell_type": "code",
   "execution_count": 10,
   "metadata": {},
   "outputs": [
    {
     "name": "stdout",
     "output_type": "stream",
     "text": [
      "{'err_msg': \"StrategyNotFound('策略未启动',)\", 'ret_code': -1}\n"
     ]
    }
   ],
   "source": [
    "pprint(proxy.get_capital())"
   ]
  },
  {
   "cell_type": "markdown",
   "metadata": {},
   "source": [
    "## 停止策略"
   ]
  },
  {
   "cell_type": "code",
   "execution_count": 9,
   "metadata": {},
   "outputs": [
    {
     "data": {
      "text/plain": [
       "{'ret_code': 0, 'data': None}"
      ]
     },
     "execution_count": 9,
     "metadata": {},
     "output_type": "execute_result"
    }
   ],
   "source": [
    "proxy.stop_strategy()"
   ]
  },
  {
   "cell_type": "code",
   "execution_count": null,
   "metadata": {
    "collapsed": true
   },
   "outputs": [],
   "source": []
  }
 ],
 "metadata": {
  "kernelspec": {
   "display_name": "Python 3",
   "language": "python",
   "name": "python3"
  },
  "language_info": {
   "codemirror_mode": {
    "name": "ipython",
    "version": 3
   },
   "file_extension": ".py",
   "mimetype": "text/x-python",
   "name": "python",
   "nbconvert_exporter": "python",
   "pygments_lexer": "ipython3",
   "version": "3.6.3"
  }
 },
 "nbformat": 4,
 "nbformat_minor": 2
}
