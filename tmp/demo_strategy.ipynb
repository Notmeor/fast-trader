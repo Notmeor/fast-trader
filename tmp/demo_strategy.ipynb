{
 "cells": [
  {
   "cell_type": "code",
   "execution_count": 1,
   "metadata": {},
   "outputs": [
    {
     "name": "stderr",
     "output_type": "stream",
     "text": [
      "/opt/conda/lib/python3.6/site-packages/urllib3/connectionpool.py:847: InsecureRequestWarning: Unverified HTTPS request is being made. Adding certificate verification is strongly advised. See: https://urllib3.readthedocs.io/en/latest/advanced-usage.html#ssl-warnings\n",
      "  InsecureRequestWarning)\n"
     ]
    }
   ],
   "source": [
    "import time, datetime\n",
    "from collections import defaultdict\n",
    "\n",
    "from fast_trader.dtp import dtp_api_id\n",
    "from fast_trader.dtp import type_pb2 as dtp_type\n",
    "from fast_trader.dtp_quote import TradeFeed, OrderFeed, TickFeed\n",
    "from fast_trader.strategy import Strategy, StrategyFactory, to_timeint\n",
    "from fast_trader.utils import timeit, message2dict, int2datetime, attrdict"
   ]
  },
  {
   "cell_type": "code",
   "execution_count": 2,
   "metadata": {},
   "outputs": [
    {
     "name": "stdout",
     "output_type": "stream",
     "text": [
      "2019-04-24 16:10:42,212 - MainThread - trader - WARNING - 初始请求编号 策略=8 1753936220\n",
      "Login success\n"
     ]
    },
    {
     "name": "stderr",
     "output_type": "stream",
     "text": [
      "/opt/conda/lib/python3.6/site-packages/urllib3/connectionpool.py:847: InsecureRequestWarning: Unverified HTTPS request is being made. Adding certificate verification is strongly advised. See: https://urllib3.readthedocs.io/en/latest/advanced-usage.html#ssl-warnings\n",
      "  InsecureRequestWarning)\n"
     ]
    }
   ],
   "source": [
    "\n",
    "class DemoStrategy(Strategy):\n",
    "    \"\"\"\n",
    "    Demo\n",
    "    \"\"\"\n",
    "    \n",
    "    strategy_id = 8\n",
    "    strategy_name = 'Demo strategy'\n",
    "\n",
    "    @property\n",
    "    def now(self):\n",
    "        return datetime.datetime.now()\n",
    "\n",
    "    @property\n",
    "    def holdings(self):\n",
    "        positions = self.get_positions()\n",
    "        return [p['code'] for p in positions]\n",
    "\n",
    "    def on_start(self):\n",
    "        \"\"\"\n",
    "        执行策略启动前的一些初始化操作\n",
    "        \"\"\"\n",
    "        pass\n",
    "\n",
    "    def on_market_trade(self, data):\n",
    "        \"\"\"\n",
    "        响应逐笔成交行情\n",
    "        \"\"\"\n",
    "\n",
    "        # 过滤撤单记录\n",
    "        if data.nTurnover == 0:\n",
    "            return\n",
    "\n",
    "        if data.nTime < 93000000:  # 不参与集合竞价\n",
    "            return\n",
    "\n",
    "    def on_market_snapshot(self, data):\n",
    "        \"\"\"\n",
    "        响应快照行情\n",
    "        \"\"\"\n",
    "        pass\n",
    "\n",
    "    def on_order(self, order):\n",
    "        \"\"\"\n",
    "        响应报单回报\n",
    "        \"\"\"\n",
    "        print('\\n-----报单回报-----')\n",
    "        print(order)\n",
    "\n",
    "    def on_trade(self, trade):\n",
    "        \"\"\"\n",
    "        响应成交回报\n",
    "        \"\"\"\n",
    "        print('\\n-----成交回报-----')\n",
    "        print(trade)\n",
    "\n",
    "    def on_order_cancelation(self, data):\n",
    "        \"\"\"\n",
    "        响应撤单回报\n",
    "        \"\"\"\n",
    "        print('\\n-----撤单回报-----')\n",
    "        print(data)\n",
    "\n",
    "\n",
    "\n",
    "if __name__ == '__main__':\n",
    "\n",
    "\n",
    "    factory = StrategyFactory()\n",
    "    strategy = factory.generate_strategy(\n",
    "        DemoStrategy,\n",
    "        trader_id=1,\n",
    "        strategy_id=DemoStrategy.strategy_id\n",
    "    )\n",
    "    \n",
    "    # 订阅行情\n",
    "    tf = TradeFeed()\n",
    "    tf.subscribe(['600056'])\n",
    "\n",
    "    of = OrderFeed()\n",
    "    of.subscribe(['600056'])\n",
    "\n",
    "    tk = TickFeed()\n",
    "    tk.subscribe(['600056', '601668', '601555'])\n",
    "\n",
    "    strategy.add_datasource(tf)\n",
    "    strategy.add_datasource(tk)\n",
    "\n",
    "    strategy.start()\n",
    "\n",
    "    ## 下单\n",
    "    # strategy.buy('601555', '16', 500)\n",
    "    ## 全撤\n",
    "    # strategy.cancle_all()\n",
    "\n"
   ]
  },
  {
   "cell_type": "code",
   "execution_count": 3,
   "metadata": {},
   "outputs": [
    {
     "name": "stderr",
     "output_type": "stream",
     "text": [
      "/opt/conda/lib/python3.6/site-packages/urllib3/connectionpool.py:847: InsecureRequestWarning: Unverified HTTPS request is being made. Adding certificate verification is strongly advised. See: https://urllib3.readthedocs.io/en/latest/advanced-usage.html#ssl-warnings\n",
      "  InsecureRequestWarning)\n"
     ]
    },
    {
     "data": {
      "text/plain": [
       "{'account_no': '011000106328',\n",
       " 'available': '3999957953.170',\n",
       " 'balance': '4000000000.000',\n",
       " 'freeze': '42046.830',\n",
       " 'securities': '139234831.000',\n",
       " 'total': '4139192784.170'}"
      ]
     },
     "execution_count": 3,
     "metadata": {},
     "output_type": "execute_result"
    }
   ],
   "source": [
    "strategy.get_capital()"
   ]
  },
  {
   "cell_type": "code",
   "execution_count": 4,
   "metadata": {},
   "outputs": [
    {
     "name": "stdout",
     "output_type": "stream",
     "text": [
      "16 <class 'str'>\n"
     ]
    },
    {
     "name": "stderr",
     "output_type": "stream",
     "text": [
      "/opt/conda/lib/python3.6/site-packages/urllib3/connectionpool.py:847: InsecureRequestWarning: Unverified HTTPS request is being made. Adding certificate verification is strongly advised. See: https://urllib3.readthedocs.io/en/latest/advanced-usage.html#ssl-warnings\n",
      "  InsecureRequestWarning)\n"
     ]
    },
    {
     "data": {
      "text/plain": [
       "{'order_side': 1,\n",
       " 'code': '601555',\n",
       " 'price': '16',\n",
       " 'quantity': 500,\n",
       " 'exchange': 1,\n",
       " 'order_original_id': '1753936220',\n",
       " 'status': 0,\n",
       " 'placed_localtime': 161042367}"
      ]
     },
     "execution_count": 4,
     "metadata": {},
     "output_type": "execute_result"
    },
    {
     "name": "stdout",
     "output_type": "stream",
     "text": [
      "\n",
      "-----报单回报-----\n",
      "{'order_exchange_id': '0', 'placed_time': '', 'freeze_amount': 0.0, 'status': 9, 'order_original_id': '1753936220', 'account_no': '011000106328', 'exchange': 1, 'code': '601555', 'quantity': 500, 'order_side': 1, 'price': 16.0, 'message': '闭市期间,系统禁止委托'}\n"
     ]
    }
   ],
   "source": [
    "strategy.buy('601555', '16', 500)"
   ]
  },
  {
   "cell_type": "code",
   "execution_count": null,
   "metadata": {},
   "outputs": [],
   "source": []
  }
 ],
 "metadata": {
  "kernelspec": {
   "display_name": "Python 3",
   "language": "python",
   "name": "python3"
  },
  "language_info": {
   "codemirror_mode": {
    "name": "ipython",
    "version": 3
   },
   "file_extension": ".py",
   "mimetype": "text/x-python",
   "name": "python",
   "nbconvert_exporter": "python",
   "pygments_lexer": "ipython3",
   "version": "3.6.3"
  }
 },
 "nbformat": 4,
 "nbformat_minor": 2
}
